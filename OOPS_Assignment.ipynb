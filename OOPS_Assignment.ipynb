{
  "nbformat": 4,
  "nbformat_minor": 0,
  "metadata": {
    "colab": {
      "provenance": []
    },
    "kernelspec": {
      "name": "python3",
      "display_name": "Python 3"
    },
    "language_info": {
      "name": "python"
    }
  },
  "cells": [
    {
      "cell_type": "markdown",
      "source": [
        "###1. What are the five key concept of Object-Oriented Programming(OOP)?"
      ],
      "metadata": {
        "id": "WGpIpL-_rvm5"
      }
    },
    {
      "cell_type": "markdown",
      "source": [
        "####Ans:- bject-Oriented Programming (OOP) is a programming paradigm centered around the concept of \"objects\" which are instances of classes. The five key concepts of OOP are:\n",
        "\n",
        "1. Class:- A class is a blueprint or template for creating objects. It defines a set of attributes (data) and methods (functions) that the objects created from the class can use.\n",
        "\n",
        "    Example: Consider a class called Car. This class might have attributes like color, model, and year, and methods like start_engine() and stop_engine()\n",
        "2. Object:- An object is an instance of a class. It is a concrete entity based on the class, and it can have its own unique values for the attributes defined in the class.\n",
        "\n",
        "    Example: Using the Car class:-\n",
        "\n",
        "    my_car = Car(\"Red\", \"Toyota\", 2020)\n",
        "    your_car = Car(\"Blue\", \"Honda\", 2019)\n",
        "\n",
        "3. Encapsulation:- Encapsulation is the concept of bundling the data (attributes) and methods (functions) that operate on the data into a single unit, or class. It also involves restricting access to certain components of an object to protect the internal state of the object.\n",
        "\n",
        "    Example: In the Car class, you might make some attributes private (i.e., not accessible from outside the class) to prevent them from being modified directly.\n",
        "\n",
        "4.  Inheritance:- Inheritance allows a new class to inherit attributes and methods from an existing class. This promotes code reuse and can create a natural hierarchy between classes.\n",
        "\n",
        "    Example: Suppose you have a class Vehicle, and you want to create a Car class that inherits properties from Vehicle.\n",
        "\n",
        "5. Polymorphism:- Polymorphism allows methods to do different things based on the object it is acting upon, even though they share the same name. It means \"many forms\" and refers to the ability to use a single interface to represent different types of objects.\n",
        "\n",
        "    Example: You might have different classes like Car and Bike, both having a method start(), but each class has its own way of implementing it."
      ],
      "metadata": {
        "id": "c8h6XQBPr5u2"
      }
    },
    {
      "cell_type": "markdown",
      "source": [
        "###2. Write a Python class for a 'car' with attributes for 'make', 'model', and 'year'. Include a method to display the car's information."
      ],
      "metadata": {
        "id": "GHTRCUhRtF2M"
      }
    },
    {
      "cell_type": "code",
      "source": [
        "class Car:\n",
        "    def __init__(self, make, model, year):\n",
        "        self.make = make\n",
        "        self.model = model\n",
        "        self.year = year\n",
        "\n",
        "    def display_info(self):\n",
        "        print(f\"Car Information: {self.year} {self.make} {self.model}\")\n",
        "\n",
        "my_car = Car(\"Toyota\", \"Corolla\", 2020)\n",
        "my_car.display_info()\n"
      ],
      "metadata": {
        "colab": {
          "base_uri": "https://localhost:8080/"
        },
        "id": "9vwAEvcgtgak",
        "outputId": "44316b83-bb82-4fb3-d44d-d3598290c509"
      },
      "execution_count": 1,
      "outputs": [
        {
          "output_type": "stream",
          "name": "stdout",
          "text": [
            "Car Information: 2020 Toyota Corolla\n"
          ]
        }
      ]
    },
    {
      "cell_type": "markdown",
      "source": [
        "###3. Explain the difference between instance methods and class methods. Provide an example of each."
      ],
      "metadata": {
        "id": "cTJI1Yfmtr_j"
      }
    },
    {
      "cell_type": "markdown",
      "source": [
        "####Ans:- The difference between instance methods and class methods are:\n",
        "\n",
        "####Instance method:- Instance methods are functions defined inside a class that operate on instances of that class.\n",
        "\n",
        "  They can access and modify the object's attributes and are the most common type of method in Python classes.\n",
        "\n",
        "\n",
        "  They take self as the first parameter, which refers to the instance of the class.\n",
        "\n",
        "  They can access or modify the instance's attributes and call other instance methods.\n",
        "\n",
        "####Class methods:- Definition:\n",
        "Class methods are methods that are bound to the class rather than its instances.\n",
        "\n",
        "They can modify a class's state that applies across all instances of the class.\n",
        "\n",
        "Class methods are often used to define methods that are related to the class as a whole rather than any particular object.\n",
        "\n",
        "They take cls as the first parameter, which refers to the class itself, not an instance of the class.\n",
        "\n",
        "They are defined using the @classmethod decorator.\n",
        "\n",
        "They can access class-level attributes or methods but cannot directly access or modify instance-level attributes."
      ],
      "metadata": {
        "id": "6R3VUWwXuAKQ"
      }
    },
    {
      "cell_type": "code",
      "source": [
        "class Car:\n",
        "    def __init__(self, make, model, year):\n",
        "        self.make = make\n",
        "        self.model = model\n",
        "        self.year = year\n",
        "\n",
        "    def display_info(self):\n",
        "        print(f\"Car Information: {self.year} {self.make} {self.model}\")\n",
        "\n",
        "# Example usage\n",
        "my_car = Car(\"Toyota\", \"Corolla\", 2020)\n",
        "my_car.display_info()  # Calls the instance method\n"
      ],
      "metadata": {
        "colab": {
          "base_uri": "https://localhost:8080/"
        },
        "id": "dtauS-FNvBPj",
        "outputId": "5d4db640-8bb5-4011-b4fe-d5b2e4d51a25"
      },
      "execution_count": 2,
      "outputs": [
        {
          "output_type": "stream",
          "name": "stdout",
          "text": [
            "Car Information: 2020 Toyota Corolla\n"
          ]
        }
      ]
    },
    {
      "cell_type": "code",
      "source": [
        "class Car:\n",
        "    # Class attribute\n",
        "    number_of_wheels = 4\n",
        "\n",
        "    def __init__(self, make, model, year):\n",
        "        self.make = make\n",
        "        self.model = model\n",
        "        self.year = year\n",
        "\n",
        "    @classmethod\n",
        "    def update_wheels(cls, new_wheel_count):\n",
        "        cls.number_of_wheels = new_wheel_count\n",
        "        print(f\"Updated number of wheels to {cls.number_of_wheels}\")\n",
        "\n",
        "# Example usage\n",
        "Car.update_wheels(6)  # Calls the class method\n",
        "\n"
      ],
      "metadata": {
        "colab": {
          "base_uri": "https://localhost:8080/"
        },
        "id": "PpsRcYgWvGOA",
        "outputId": "6dc58ad0-bd19-446f-9f46-dae7a64832b3"
      },
      "execution_count": 3,
      "outputs": [
        {
          "output_type": "stream",
          "name": "stdout",
          "text": [
            "Updated number of wheels to 6\n"
          ]
        }
      ]
    },
    {
      "cell_type": "markdown",
      "source": [
        "###4. How does Python implement method overloading? Give an Example."
      ],
      "metadata": {
        "id": "KSOm3CruvOJ0"
      }
    },
    {
      "cell_type": "markdown",
      "source": [
        "####Ans:- If you define multiple methods with the same name in a class, the last one defined will override the previous ones. This is because Python does not keep track of the different signatures (parameter lists) for a method name. Instead, Python relies on the flexibility of default arguments, variable-length argument lists (*args and **kwargs), and type checking within a single method to achieve behavior similar to overloading."
      ],
      "metadata": {
        "id": "lE5dsQ6Av3qV"
      }
    },
    {
      "cell_type": "code",
      "source": [
        "class Calculator:\n",
        "    def add(self, a, b=0, c=0):\n",
        "        return a + b + c\n",
        "\n",
        "# Example usage\n",
        "calc = Calculator()\n",
        "\n",
        "print(calc.add(5))        # Output: 5 (uses a=5, b=0, c=0)\n",
        "print(calc.add(5, 10))    # Output: 15 (uses a=5, b=10, c=0)\n",
        "print(calc.add(5, 10, 15)) # Output: 30 (uses a=5, b=10, c=15)\n"
      ],
      "metadata": {
        "colab": {
          "base_uri": "https://localhost:8080/"
        },
        "id": "HSsIK8Yiv8if",
        "outputId": "afcff218-836c-4ec0-9076-ad9b6d93ed13"
      },
      "execution_count": 4,
      "outputs": [
        {
          "output_type": "stream",
          "name": "stdout",
          "text": [
            "5\n",
            "15\n",
            "30\n"
          ]
        }
      ]
    },
    {
      "cell_type": "code",
      "source": [
        "#Using *args method signature\n",
        "class Calculator:\n",
        "    def add(self, *args):\n",
        "        return sum(args)\n",
        "\n",
        "# Example usage\n",
        "calc = Calculator()\n",
        "\n",
        "print(calc.add(5))            # Output: 5\n",
        "print(calc.add(5, 10))        # Output: 15\n",
        "print(calc.add(5, 10, 15))    # Output: 30\n"
      ],
      "metadata": {
        "id": "-hr_wt7EwErc"
      },
      "execution_count": null,
      "outputs": []
    },
    {
      "cell_type": "markdown",
      "source": [
        "###5. What are the three types of access modifiers in python? How are they denoted?"
      ],
      "metadata": {
        "id": "xWVIuI8-wNZP"
      }
    },
    {
      "cell_type": "markdown",
      "source": [
        "####Ans:-  Access modifiers control the accessibility of class members (attributes and methods) from outside the class. Python has three main types of access modifiers:\n",
        "\n",
        "  1. Public:-  Public members are accessible from anywhere, both inside and outside the class.\n",
        "\n",
        "  Public members are not prefixed with any underscores; they are simply named.\n",
        "\n",
        "  2. Protected:- Protected members are intended to be accessible within the class and its subclasses. They are not meant to be accessed directly from outside the class, but Python does not enforce this strictly (it’s more of a convention).\n",
        "  \n",
        "  Protected members are denoted by a single underscore (_) prefix.\n",
        "\n",
        "  3. Private:- Private members are only accessible within the class in which they are defined. They cannot be accessed from outside the class or by subclasses.\n",
        "  \n",
        "  Private members are denoted by a double underscore (__) prefix.\n",
        "\n",
        "\n",
        "\n"
      ],
      "metadata": {
        "id": "BePu6JUTwY8T"
      }
    },
    {
      "cell_type": "code",
      "source": [
        "#For Public Access modifiers\n",
        "class Car:\n",
        "    def __init__(self, make, model):\n",
        "        self.make = make      # Public attribute\n",
        "        self.model = model    # Public attribute\n",
        "\n",
        "    def display_info(self):   # Public method\n",
        "        print(f\"Car: {self.make} {self.model}\")\n",
        "\n",
        "my_car = Car(\"Toyota\", \"Corolla\")\n",
        "print(my_car.make)  # Accessing public attribute\n",
        "my_car.display_info()  # Accessing public method\n"
      ],
      "metadata": {
        "colab": {
          "base_uri": "https://localhost:8080/"
        },
        "id": "0PzUbMBUxMzP",
        "outputId": "3c374ef2-0c9d-4f97-9902-9af44eabd576"
      },
      "execution_count": 5,
      "outputs": [
        {
          "output_type": "stream",
          "name": "stdout",
          "text": [
            "Toyota\n",
            "Car: Toyota Corolla\n"
          ]
        }
      ]
    },
    {
      "cell_type": "code",
      "source": [
        "#By Using Protected Access modifiers\n",
        "\n",
        "class Car:\n",
        "    def __init__(self, make, model):\n",
        "        self._make = make      # Protected attribute\n",
        "        self._model = model    # Protected attribute\n",
        "\n",
        "    def _display_info(self):   # Protected method\n",
        "        print(f\"Car: {self._make} {_model}\")\n",
        "\n",
        "class ElectricCar(Car):\n",
        "    def display(self):\n",
        "        print(f\"Electric Car: {self._make} {self._model}\")  # Accessing protected attributes\n",
        "\n",
        "my_car = Car(\"Toyota\", \"Corolla\")\n",
        "print(my_car._make)  # Though accessible, it's intended to be protected\n"
      ],
      "metadata": {
        "colab": {
          "base_uri": "https://localhost:8080/"
        },
        "id": "QL4JvPX7xVGw",
        "outputId": "64780d18-b19e-42e8-97af-6a4b0197f77e"
      },
      "execution_count": 6,
      "outputs": [
        {
          "output_type": "stream",
          "name": "stdout",
          "text": [
            "Toyota\n"
          ]
        }
      ]
    },
    {
      "cell_type": "code",
      "source": [
        "class Car:\n",
        "    def __init__(self, make, model):\n",
        "        self.__make = make      # Private attribute\n",
        "        self.__model = model    # Private attribute\n",
        "\n",
        "    def __display_info(self):   # Private method\n",
        "        print(f\"Car: {self.__make} {self.__model}\")\n",
        "\n",
        "    def public_display(self):\n",
        "        self.__display_info()  # Private method can be accessed within the class\n",
        "\n",
        "my_car = Car(\"Toyota\", \"Corolla\")\n",
        "# print(my_car.__make)  # This will raise an AttributeError\n",
        "my_car.public_display()  # This works because the private method is accessed within the class\n",
        "\n"
      ],
      "metadata": {
        "colab": {
          "base_uri": "https://localhost:8080/"
        },
        "id": "syzrEgoVxgGV",
        "outputId": "fd5b3f0d-d618-46dc-eb86-4b88b70b3a00"
      },
      "execution_count": 7,
      "outputs": [
        {
          "output_type": "stream",
          "name": "stdout",
          "text": [
            "Car: Toyota Corolla\n"
          ]
        }
      ]
    },
    {
      "cell_type": "markdown",
      "source": [
        "###6. Describe the five types fo inheritance of Python. Provide a simple example of multiple inheritance.\n"
      ],
      "metadata": {
        "id": "7BH3OOuQxj6K"
      }
    },
    {
      "cell_type": "markdown",
      "source": [
        "####Ans:- Inheritance allows a class to inherit attributes and methods from another class. This promotes code reuse and establishes relationships between classes. Python supports several types of inheritance:\n",
        "1. Single Inheritance: A class inherits from a single parent class.\n",
        "\n",
        "2. Multiple Inheritance: A class inherits from more than one parent class.\n",
        "\n",
        "3. Multilevel Inheritance: A class inherits from a class that already inherits from another class. This forms a chain of inheritance.\n",
        "\n",
        "4. Hierarchical Inheritance: Multiple classes inherit from the same parent class.\n",
        "\n",
        "5. Hybrid Inheritance: A combination of two or more types of inheritance, forming a more complex inheritance structure."
      ],
      "metadata": {
        "id": "oqUAF4Q1xzct"
      }
    },
    {
      "cell_type": "code",
      "source": [
        "class Flyable:\n",
        "    def fly(self):\n",
        "        return \"Flying high!\"\n",
        "\n",
        "class Swimable:\n",
        "    def swim(self):\n",
        "        return \"Swimming in the water!\"\n",
        "\n",
        "class Duck(Flyable, Swimable):\n",
        "    pass\n",
        "\n",
        "daffy = Duck()\n",
        "print(daffy.fly())   # Output: Flying high!\n",
        "print(daffy.swim())  # Output: Swimming in the water!\n"
      ],
      "metadata": {
        "colab": {
          "base_uri": "https://localhost:8080/"
        },
        "id": "-gVZmY6pyi-G",
        "outputId": "5188822f-9b4f-4864-98fb-83674f2f9ff0"
      },
      "execution_count": 8,
      "outputs": [
        {
          "output_type": "stream",
          "name": "stdout",
          "text": [
            "Flying high!\n",
            "Swimming in the water!\n"
          ]
        }
      ]
    },
    {
      "cell_type": "markdown",
      "source": [
        "###7. What is the Method Resolution Order (MRO) in Python? How can you retrieve it programmatically?"
      ],
      "metadata": {
        "id": "nPkPlvBCyk-P"
      }
    },
    {
      "cell_type": "markdown",
      "source": [
        "####Ans:- The Method Resolution Order (MRO) in Python is the order in which Python looks for a method or attribute in a hierarchy of classes when multiple inheritance is involved.\n",
        "\n",
        "It determines the sequence of classes that are checked when you try to access a method or an attribute on an object.\n",
        "\n",
        "Python uses the C3 linearization algorithm (also known as C3 superclass linearization) to determine the MRO.\n",
        "\n",
        "The MRO ensures that a consistent and predictable order is followed, respecting the order of inheritance in classes and resolving potential conflicts in cases of multiple inheritance."
      ],
      "metadata": {
        "id": "fhQD3hyFy9ta"
      }
    },
    {
      "cell_type": "code",
      "source": [
        "#MRO in Multiple Inheritance\n",
        "class A:\n",
        "    def process(self):\n",
        "        print(\"Processing in A\")\n",
        "\n",
        "class B(A):\n",
        "    def process(self):\n",
        "        print(\"Processing in B\")\n",
        "\n",
        "class C(A):\n",
        "    def process(self):\n",
        "        print(\"Processing in C\")\n",
        "\n",
        "class D(B, C):\n",
        "    pass\n",
        "\n",
        "d = D()\n",
        "d.process()\n"
      ],
      "metadata": {
        "colab": {
          "base_uri": "https://localhost:8080/"
        },
        "id": "Gv1QpSc4y7qX",
        "outputId": "785fad44-a25e-470a-fadd-6a20f4219d6e"
      },
      "execution_count": 9,
      "outputs": [
        {
          "output_type": "stream",
          "name": "stdout",
          "text": [
            "Processing in B\n"
          ]
        }
      ]
    },
    {
      "cell_type": "code",
      "source": [
        "#Retrieving MRO Programmatically\n",
        "print(D.__mro__)  #Using the __mro__ attribute:\n",
        "\n",
        "print(D.mro())  #Using the mro() method:\n",
        "\n"
      ],
      "metadata": {
        "colab": {
          "base_uri": "https://localhost:8080/"
        },
        "id": "jKbKzkKpyfjI",
        "outputId": "a3b72c23-7390-489c-c27b-87c73e736626"
      },
      "execution_count": 11,
      "outputs": [
        {
          "output_type": "stream",
          "name": "stdout",
          "text": [
            "(<class '__main__.D'>, <class '__main__.B'>, <class '__main__.C'>, <class '__main__.A'>, <class 'object'>)\n",
            "[<class '__main__.D'>, <class '__main__.B'>, <class '__main__.C'>, <class '__main__.A'>, <class 'object'>]\n"
          ]
        }
      ]
    },
    {
      "cell_type": "markdown",
      "source": [
        "####8. Create an abstract base class `Shape` with an abstract method `area()`. Then create two subclasses`Circle` and `Rectangle` that implement the `area()` method.\n",
        "\n",
        "\n"
      ],
      "metadata": {
        "id": "uQ6o5Nw4znZT"
      }
    },
    {
      "cell_type": "code",
      "source": [
        "from abc import ABC, abstractmethod\n",
        "import math\n",
        "\n",
        "class Shape(ABC):\n",
        "    @abstractmethod\n",
        "    def area(self):\n",
        "        pas\n",
        "class Circle(Shape):\n",
        "    def __init__(self, radius):\n",
        "        self.radius = radius\n",
        "\n",
        "    def area(self):\n",
        "        return math.pi * self.radius * self.radius\n",
        "\n",
        "class Rectangle(Shape):\n",
        "    def __init__(self, width, height):\n",
        "        self.width = width\n",
        "        self.height = height\n",
        "\n",
        "    def area(self):\n",
        "        return self.width * self.height\n",
        "\n",
        "# Create a Circle with a radius of 5\n",
        "circle = Circle(5)\n",
        "print(f\"Area of the circle: {circle.area()}\")  # Output: Area of the circle: 78.53981633974483\n",
        "\n",
        "# Create a Rectangle with a width of 4 and height of 6\n",
        "rectangle = Rectangle(4, 6)\n",
        "print(f\"Area of the rectangle: {rectangle.area()}\")  # Output: Area of the rectangle: 24\n"
      ],
      "metadata": {
        "colab": {
          "base_uri": "https://localhost:8080/"
        },
        "id": "7uccX-1zz61N",
        "outputId": "a285a727-343c-4e48-cb8b-084f8daad0dd"
      },
      "execution_count": 12,
      "outputs": [
        {
          "output_type": "stream",
          "name": "stdout",
          "text": [
            "Area of the circle: 78.53981633974483\n",
            "Area of the rectangle: 24\n"
          ]
        }
      ]
    },
    {
      "cell_type": "markdown",
      "source": [
        "####9. Demonstrate polymorphism by creating a function that can work with different shape objects to calculate and print their areas."
      ],
      "metadata": {
        "id": "9eXmLUSizx3b"
      }
    },
    {
      "cell_type": "code",
      "source": [
        "def print_area(shape):\n",
        "    print(f\"The area of the shape is: {shape.area()}\")\n",
        "# Assume the classes Shape, Circle, and Rectangle are already defined as above.\n",
        "\n",
        "# Create a Circle with a radius of 5\n",
        "circle = Circle(5)\n",
        "\n",
        "# Create a Rectangle with a width of 4 and height of 6\n",
        "rectangle = Rectangle(4, 6)\n",
        "\n",
        "# Use the polymorphic function to print the areas\n",
        "print_area(circle)       # Output: The area of the shape is: 78.53981633974483\n",
        "print_area(rectangle)    # Output: The area of the shape is: 24\n"
      ],
      "metadata": {
        "colab": {
          "base_uri": "https://localhost:8080/"
        },
        "id": "IwcYXt3r0PE6",
        "outputId": "2e0f5433-0bbd-434e-ce74-b8fa52c34289"
      },
      "execution_count": 13,
      "outputs": [
        {
          "output_type": "stream",
          "name": "stdout",
          "text": [
            "The area of the shape is: 78.53981633974483\n",
            "The area of the shape is: 24\n"
          ]
        }
      ]
    },
    {
      "cell_type": "markdown",
      "source": [
        "###10.  Implement encapsulation in a `BankAccount` class with private attributes for `balance` and `account_number`. Include methods for deposit, withdrawal, and balance inquiry."
      ],
      "metadata": {
        "id": "_PI5WM9y0iKd"
      }
    },
    {
      "cell_type": "code",
      "source": [
        "class BankAccount:\n",
        "    def __init__(self, account_number, initial_balance=0):\n",
        "        self.__account_number = account_number  # Private attribute\n",
        "        self.__balance = initial_balance        # Private attribute\n",
        "\n",
        "    def deposit(self, amount):\n",
        "        if amount > 0:\n",
        "            self.__balance += amount\n",
        "            print(f\"Deposited: ${amount:.2f}. New balance: ${self.__balance:.2f}\")\n",
        "        else:\n",
        "            print(\"Deposit amount must be positive.\")\n",
        "\n",
        "    def withdraw(self, amount):\n",
        "        if 0 < amount <= self.__balance:\n",
        "            self.__balance -= amount\n",
        "            print(f\"Withdrew: ${amount:.2f}. New balance: ${self.__balance:.2f}\")\n",
        "        elif amount > self.__balance:\n",
        "            print(\"Insufficient balance.\")\n",
        "        else:\n",
        "            print(\"Withdrawal amount must be positive.\")\n",
        "\n",
        "    def get_balance(self):\n",
        "        print(f\"Current balance: ${self.__balance:.2f}\")\n",
        "        return self.__balance\n",
        "\n",
        "    def get_account_number(self):\n",
        "        print(f\"Account Number: {self.__account_number}\")\n",
        "        return self.__account_number\n",
        "# Creating a BankAccount instance\n",
        "account = BankAccount(\"123456789\", 1000)\n",
        "\n",
        "# Depositing money\n",
        "account.deposit(500)  # Output: Deposited: $500.00. New balance: $1500.00\n",
        "\n",
        "# Withdrawing money\n",
        "account.withdraw(200)  # Output: Withdrew: $200.00. New balance: $1300.00\n",
        "\n",
        "# Trying to withdraw more than the balance\n",
        "account.withdraw(1500)  # Output: Insufficient balance.\n",
        "\n",
        "# Checking balance\n",
        "account.get_balance()  # Output: Current balance: $1300.00\n",
        "\n",
        "# Accessing account number\n",
        "account.get_account_number()  # Output: Account Number: 123456789\n"
      ],
      "metadata": {
        "colab": {
          "base_uri": "https://localhost:8080/",
          "height": 122
        },
        "id": "0HuLYChk0zmT",
        "outputId": "18d3de30-0346-40fa-92ef-e865ee884873"
      },
      "execution_count": 14,
      "outputs": [
        {
          "output_type": "stream",
          "name": "stdout",
          "text": [
            "Deposited: $500.00. New balance: $1500.00\n",
            "Withdrew: $200.00. New balance: $1300.00\n",
            "Insufficient balance.\n",
            "Current balance: $1300.00\n",
            "Account Number: 123456789\n"
          ]
        },
        {
          "output_type": "execute_result",
          "data": {
            "text/plain": [
              "'123456789'"
            ],
            "application/vnd.google.colaboratory.intrinsic+json": {
              "type": "string"
            }
          },
          "metadata": {},
          "execution_count": 14
        }
      ]
    },
    {
      "cell_type": "markdown",
      "source": [
        "###11. Write a class that overrides the `__str__` and `__add__` magic methods. What will these methods allow you to do?"
      ],
      "metadata": {
        "id": "3V5fpIj60-hU"
      }
    },
    {
      "cell_type": "code",
      "source": [
        "class Vector:\n",
        "    def __init__(self, x, y):\n",
        "        self.x = x\n",
        "        self.y = y\n",
        "\n",
        "    def __str__(self):\n",
        "        return f\"Vector({self.x}, {self.y})\"\n",
        "\n",
        "    def __add__(self, other):\n",
        "        if isinstance(other, Vector):\n",
        "            return Vector(self.x + other.x, self.y + other.y)\n",
        "        return NotImplemented\n",
        "\n",
        "# Example usage\n",
        "v1 = Vector(3, 4)\n",
        "v2 = Vector(1, 2)\n",
        "\n",
        "print(v1)            # Output: Vector(3, 4)\n",
        "print(v2)            # Output: Vector(1, 2)\n",
        "\n",
        "v3 = v1 + v2\n",
        "print(v3)            # Output: Vector(4, 6)\n"
      ],
      "metadata": {
        "colab": {
          "base_uri": "https://localhost:8080/"
        },
        "id": "erVTJ8UW0-Qf",
        "outputId": "ce8f259b-6c40-48ad-fbb1-aca5e779bea0"
      },
      "execution_count": 15,
      "outputs": [
        {
          "output_type": "stream",
          "name": "stdout",
          "text": [
            "Vector(3, 4)\n",
            "Vector(1, 2)\n",
            "Vector(4, 6)\n"
          ]
        }
      ]
    },
    {
      "cell_type": "markdown",
      "source": [
        "###12. Create a decorator that measures and prints the execution time of a function."
      ],
      "metadata": {
        "id": "SufRu3_e1rVj"
      }
    },
    {
      "cell_type": "code",
      "source": [
        "import time\n",
        "\n",
        "def timer_decorator(func):\n",
        "    def wrapper(*args, **kwargs):\n",
        "        start_time = time.time()  # Record start time\n",
        "        result = func(*args, **kwargs)  # Call the function\n",
        "        end_time = time.time()  # Record end time\n",
        "        elapsed_time = end_time - start_time  # Calculate elapsed time\n",
        "        print(f\"Execution time of {func.__name__}: {elapsed_time:.4f} seconds\")\n",
        "        return result\n",
        "    return wrapper\n",
        "\n",
        "# Example usage of the timer decorator\n",
        "\n",
        "@timer_decorator\n",
        "def some_function(n):\n",
        "    total = 0\n",
        "    for i in range(n):\n",
        "        total += i\n",
        "    return total\n",
        "\n",
        "# Call the decorated function\n",
        "result = some_function(1000000)\n",
        "print(f\"Result: {result}\")\n"
      ],
      "metadata": {
        "colab": {
          "base_uri": "https://localhost:8080/"
        },
        "id": "gF-G5lp81ui_",
        "outputId": "25db4cbf-0192-46e5-da98-e821ce5280bf"
      },
      "execution_count": 16,
      "outputs": [
        {
          "output_type": "stream",
          "name": "stdout",
          "text": [
            "Execution time of some_function: 0.0803 seconds\n",
            "Result: 499999500000\n"
          ]
        }
      ]
    },
    {
      "cell_type": "markdown",
      "source": [
        "###13.  Explain the concept of the Diamond Problem in multiple inheritance. How does Python resolve it?"
      ],
      "metadata": {
        "id": "SF32oEuR2GXY"
      }
    },
    {
      "cell_type": "markdown",
      "source": [
        "###Ans:- The Diamond Problem is a well-known issue in object-oriented programming that arises with multiple inheritance. It occurs when a class inherits from two or more classes that have a common base class, leading to ambiguity in the inheritance hierarchy. This can result in problems like:\n",
        "\n",
        " Ambiguity: It is unclear which method or attribute should be inherited if there are multiple paths to the same base class.\n",
        "\n",
        "Redundancy: Methods or attributes might be inherited multiple times, leading to redundant code or unexpected behavior.\n",
        "\n",
        "####How Python Resolves the Diamond Problem:-\n",
        "Python uses a method resolution order (MRO) algorithm to address the Diamond Problem.\n",
        "\n",
        "Specifically, Python uses the C3 Linearization algorithm, which provides a consistent order for method resolution. This algorithm ensures that the order is deterministic and respects the hierarchy.\n",
        "\n",
        "C3 Linearization Algorithm\n",
        "The C3 Linearization algorithm computes the MRO for a class by:\n",
        "\n",
        "Combining the MROs of the parent classes.\n",
        "Respecting the order of base classes as defined in the class definition.\n",
        "Maintaining a consistent linearization that honors the class hierarchy."
      ],
      "metadata": {
        "id": "YaYGwnAI2JH5"
      }
    },
    {
      "cell_type": "markdown",
      "source": [
        "###14. Write a class method that keeps track of the number of instances created from a class."
      ],
      "metadata": {
        "id": "6dND8HWF2vWf"
      }
    },
    {
      "cell_type": "code",
      "source": [
        "class InstanceCounter:\n",
        "    # Class variable to keep track of the number of instances\n",
        "    _instance_count = 0\n",
        "\n",
        "    def __init__(self):\n",
        "        # Increment the instance count whenever a new instance is created\n",
        "        InstanceCounter._instance_count += 1\n",
        "\n",
        "    @classmethod\n",
        "    def get_instance_count(cls):\n",
        "        # Class method to get the current instance count\n",
        "        return cls._instance_count\n",
        "\n",
        "# Example usage\n",
        "obj1 = InstanceCounter()\n",
        "obj2 = InstanceCounter()\n",
        "obj3 = InstanceCounter()\n",
        "\n",
        "print(f\"Number of instances created: {InstanceCounter.get_instance_count()}\")  # Output: Number of instances created: 3\n"
      ],
      "metadata": {
        "colab": {
          "base_uri": "https://localhost:8080/"
        },
        "id": "Ih6XAWBT3EaT",
        "outputId": "ef39aa5c-633d-49a9-ecc9-96a72d08f830"
      },
      "execution_count": 17,
      "outputs": [
        {
          "output_type": "stream",
          "name": "stdout",
          "text": [
            "Number of instances created: 3\n"
          ]
        }
      ]
    },
    {
      "cell_type": "markdown",
      "source": [
        "###15. Implement a static method in a class that checks if a given year is a leap year."
      ],
      "metadata": {
        "id": "8752o0kr3Lw_"
      }
    },
    {
      "cell_type": "code",
      "source": [
        "class DateUtils:\n",
        "    @staticmethod\n",
        "    def is_leap_year(year):\n",
        "        # Check if the year is a leap year based on the rules\n",
        "        if (year % 4 == 0 and year % 100 != 0) or (year % 400 == 0):\n",
        "            return True\n",
        "        return False\n",
        "\n",
        "# Example usage\n",
        "year = 2024\n",
        "print(f\"Is {year} a leap year? {DateUtils.is_leap_year(year)}\")  # Output: Is 2024 a leap year? True\n",
        "\n",
        "year = 2023\n",
        "print(f\"Is {year} a leap year? {DateUtils.is_leap_year(year)}\")  # Output: Is 2023 a leap year? False\n"
      ],
      "metadata": {
        "colab": {
          "base_uri": "https://localhost:8080/"
        },
        "id": "vKfH1ZRJ3Ocy",
        "outputId": "61d706eb-355a-44d2-fff4-e1f3b9c5951e"
      },
      "execution_count": 18,
      "outputs": [
        {
          "output_type": "stream",
          "name": "stdout",
          "text": [
            "Is 2024 a leap year? True\n",
            "Is 2023 a leap year? False\n"
          ]
        }
      ]
    }
  ]
}